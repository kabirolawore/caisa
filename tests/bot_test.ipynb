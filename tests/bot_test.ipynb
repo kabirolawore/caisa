{
 "cells": [
  {
   "cell_type": "code",
   "execution_count": 7,
   "id": "61990744",
   "metadata": {},
   "outputs": [],
   "source": [
    "def warn(*args, **kwargs):\n",
    "    pass\n",
    "\n",
    "import warnings\n",
    "warnings.warn = warn\n",
    "warnings.filterwarnings('ignore')"
   ]
  },
  {
   "cell_type": "code",
   "execution_count": null,
   "id": "26b7e6c3",
   "metadata": {},
   "outputs": [],
   "source": [
    "# OLLAMA_HOST=127.0.0.1:11500 ollama pull llama3\n",
    "# ssh-ed25519 AAAAC3NzaC1lZDI1NTE5AAAAIGIBF4ybPVTD9MroHmY6kKkkWP0sLdW3JfmY2cQAkX9S\n",
    "# nous-hermes-2-mistral-7b-dpo"
   ]
  },
  {
   "cell_type": "code",
   "execution_count": null,
   "id": "34ea3f6f",
   "metadata": {},
   "outputs": [],
   "source": [
    "# Import Libraries\n",
    "import os\n",
    "# os.environ[\"OLLAMA_HOST\"] = \"127.0.0.1:11500\"\n",
    "from langchain_community.document_loaders import PyPDFLoader\n",
    "from langchain_text_splitters import RecursiveCharacterTextSplitter\n",
    "from langchain_chroma import Chroma\n",
    "from langchain_community.llms import ollama\n",
    "from langchain_core.runnables import RunnablePassthrough\n",
    "from langchain_core.prompts import ChatPromptTemplate\n",
    "from langchain_core.messages import HumanMessage, AIMessage\n",
    "from langchain_community.embeddings.sentence_transformer import SentenceTransformerEmbeddings\n",
    "\n",
    "import pickle"
   ]
  },
  {
   "cell_type": "code",
   "execution_count": null,
   "id": "8c55d991",
   "metadata": {},
   "outputs": [],
   "source": [
    "# Load and Process Documents\n",
    "\n",
    "directory = \"../docs/\"\n",
    "all_docs = []\n",
    "\n",
    "for filename in os.listdir(directory):\n",
    "    if filename.endswith(\".pdf\"):\n",
    "        file_path = os.path.join(directory, filename)\n",
    "        loader = PyPDFLoader(file_path)\n",
    "        documents = loader.load()\n",
    "        all_docs.extend(documents)\n"
   ]
  },
  {
   "cell_type": "code",
   "execution_count": 10,
   "id": "6fb01516",
   "metadata": {},
   "outputs": [],
   "source": [
    "# Chunking\n",
    "\n",
    "text_splitter = RecursiveCharacterTextSplitter(chunk_size=1000, chunk_overlap=100)\n",
    "chunks = text_splitter.split_documents(all_docs)\n"
   ]
  },
  {
   "cell_type": "code",
   "execution_count": null,
   "id": "5b4d6d63",
   "metadata": {},
   "outputs": [],
   "source": []
  }
 ],
 "metadata": {
  "kernelspec": {
   "display_name": "ollama_env",
   "language": "python",
   "name": "python3"
  },
  "language_info": {
   "codemirror_mode": {
    "name": "ipython",
    "version": 3
   },
   "file_extension": ".py",
   "mimetype": "text/x-python",
   "name": "python",
   "nbconvert_exporter": "python",
   "pygments_lexer": "ipython3",
   "version": "3.9.23"
  }
 },
 "nbformat": 4,
 "nbformat_minor": 5
}
