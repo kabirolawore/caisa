{
 "cells": [
  {
   "cell_type": "code",
   "execution_count": 7,
   "id": "61990744",
   "metadata": {},
   "outputs": [],
   "source": [
    "def warn(*args, **kwargs):\n",
    "    pass\n",
    "\n",
    "import warnings\n",
    "warnings.warn = warn\n",
    "warnings.filterwarnings('ignore')"
   ]
  },
  {
   "cell_type": "code",
   "execution_count": null,
   "id": "26b7e6c3",
   "metadata": {},
   "outputs": [],
   "source": [
    "# OLLAMA_HOST=127.0.0.1:11500 ollama pull llama3\n",
    "# ssh-ed25519 AAAAC3NzaC1lZDI1NTE5AAAAIGIBF4ybPVTD9MroHmY6kKkkWP0sLdW3JfmY2cQAkX9S\n",
    "# nous-hermes-2-mistral-7b-dpo"
   ]
  },
  {
   "cell_type": "code",
   "execution_count": null,
   "id": "34ea3f6f",
   "metadata": {},
   "outputs": [],
   "source": [
    "# Import Libraries\n",
    "import os\n",
    "# os.environ[\"OLLAMA_HOST\"] = \"127.0.0.1:11500\"\n",
    "from langchain_community.document_loaders import PyPDFLoader\n",
    "from langchain_text_splitters import RecursiveCharacterTextSplitter\n",
    "from langchain_chroma import Chroma\n",
    "from langchain_community.llms import ollama\n",
    "from langchain_core.runnables import RunnablePassthrough\n",
    "from langchain_core.prompts import ChatPromptTemplate\n",
    "from langchain_core.messages import HumanMessage, AIMessage\n",
    "from langchain_community.embeddings.sentence_transformer import SentenceTransformerEmbeddings\n",
    "\n",
    "import pickle"
   ]
  },
  {
   "cell_type": "code",
   "execution_count": null,
   "id": "8c55d991",
   "metadata": {},
   "outputs": [],
   "source": [
    "# Load and Process Documents\n",
    "\n",
    "directory = \"../docs/\"\n",
    "all_docs = []\n",
    "\n",
    "for filename in os.listdir(directory):\n",
    "    if filename.endswith(\".pdf\"):\n",
    "        file_path = os.path.join(directory, filename)\n",
    "        loader = PyPDFLoader(file_path)\n",
    "        documents = loader.load()\n",
    "        all_docs.extend(documents)\n"
   ]
  },
  {
   "cell_type": "code",
   "execution_count": 10,
   "id": "6fb01516",
   "metadata": {},
   "outputs": [],
   "source": [
    "# Chunking\n",
    "\n",
    "text_splitter = RecursiveCharacterTextSplitter(chunk_size=1000, chunk_overlap=100)\n",
    "chunks = text_splitter.split_documents(all_docs)\n"
   ]
  },
  {
   "cell_type": "code",
   "execution_count": 12,
   "id": "5b4d6d63",
   "metadata": {},
   "outputs": [],
   "source": [
    "# Create Embeddings and Store\n",
    "embeddings = SentenceTransformerEmbeddings(model_name=\"all-MiniLM-L6-v2\")"
   ]
  },
  {
   "cell_type": "code",
   "execution_count": null,
   "id": "fbf8d4ad",
   "metadata": {},
   "outputs": [],
   "source": [
    "# import torch\n",
    "# torch.cuda.is_available()"
   ]
  },
  {
   "cell_type": "code",
   "execution_count": 16,
   "id": "c62479ff",
   "metadata": {},
   "outputs": [],
   "source": [
    "# Store embeddings in ChromaDB\n",
    "\n",
    "if os.path.exists('chroma_db'):\n",
    "    # Load\n",
    "    vectorstore = Chroma(embedding_function=embeddings, persist_directory=\"chroma_db\")\n",
    "else:\n",
    "    # If not found -> throw error -> create new\n",
    "    vectorstore = Chroma.from_documents(chunks, embeddings, persist_directory=\"chroma_db\")"
   ]
  },
  {
   "cell_type": "code",
   "execution_count": 17,
   "id": "863ef827",
   "metadata": {},
   "outputs": [],
   "source": [
    "# Set Up the LLM\n",
    "\n",
    "llm = ollama.Ollama(model=\"hermes3:8b\")"
   ]
  },
  {
   "cell_type": "code",
   "execution_count": 18,
   "id": "260d0855",
   "metadata": {},
   "outputs": [],
   "source": [
    "# Create a Prompt\n",
    "\n",
    "system_prompt = \"\"\"\n",
    "        You are an AI lawyer specializing in Indian law.\n",
    "        Your role is to provide clear, concise, and accurate legal advice based solely on the information from the provided documents and prior conversations with the user.\n",
    "        You must always respond as a legal expert and avoid disclaiming your expertise.\n",
    "        If an answer is unknown, simply state that and refrain from speculation.\n",
    "        Cite relevant law sections, acts, or provisions in your response.\n",
    "        Note: The developer has provided the legal documents, not the user.\n",
    "\n",
    "        Previous conversations:\n",
    "        {history}\n",
    "\n",
    "        Document context:\n",
    "        {context}\n",
    "    \"\"\"\n",
    "\n",
    "qa_prompt = ChatPromptTemplate.from_messages(\n",
    "        [\n",
    "            (\"system\", system_prompt),\n",
    "            (\"human\", \"{input}\"),\n",
    "        ]\n",
    "    )"
   ]
  },
  {
   "cell_type": "code",
   "execution_count": null,
   "id": "a4a9e8cb",
   "metadata": {},
   "outputs": [],
   "source": []
  }
 ],
 "metadata": {
  "kernelspec": {
   "display_name": "ollama_env",
   "language": "python",
   "name": "python3"
  },
  "language_info": {
   "codemirror_mode": {
    "name": "ipython",
    "version": 3
   },
   "file_extension": ".py",
   "mimetype": "text/x-python",
   "name": "python",
   "nbconvert_exporter": "python",
   "pygments_lexer": "ipython3",
   "version": "3.9.23"
  }
 },
 "nbformat": 4,
 "nbformat_minor": 5
}
